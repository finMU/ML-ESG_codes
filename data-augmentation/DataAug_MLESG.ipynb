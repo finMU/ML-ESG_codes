{
 "cells": [
  {
   "cell_type": "markdown",
   "metadata": {},
   "source": [
    "## Text Augmentation Using LLM"
   ]
  },
  {
   "cell_type": "code",
   "execution_count": 4,
   "metadata": {},
   "outputs": [],
   "source": [
    "import re\n",
    "import os\n",
    "import json\n",
    "import torch\n",
    "import pickle\n",
    "import random\n",
    "import requests\n",
    "import numpy as np\n",
    "import pandas as pd\n",
    "import torch\n",
    "import transformers\n",
    "from accelerate import Accelerator\n",
    "from tqdm import tqdm\n",
    "\n",
    "from transformers import AutoModelForCausalLM, AutoTokenizer"
   ]
  },
  {
   "cell_type": "code",
   "execution_count": 5,
   "metadata": {},
   "outputs": [],
   "source": [
    "with open('data/FinESG-2023_Train_EN.json', 'r') as f:\n",
    "    data = json.load(f)\n",
    "\n",
    "df = pd.DataFrame(data)\n",
    "\n",
    "des = pd.read_excel('./label_description.xlsx')"
   ]
  },
  {
   "cell_type": "code",
   "execution_count": 6,
   "metadata": {},
   "outputs": [],
   "source": [
    "labels = df['ESG_label'].unique()"
   ]
  },
  {
   "cell_type": "code",
   "execution_count": 7,
   "metadata": {},
   "outputs": [],
   "source": [
    "des2 = dict(des.values)"
   ]
  },
  {
   "cell_type": "code",
   "execution_count": 8,
   "metadata": {},
   "outputs": [
    {
     "data": {
      "text/plain": [
       "{'Access to Finance': 'It is about their efforts to expand financial services to historically underserved markets, including small-business lending and the development of innovative distribution channels.',\n",
       " 'Health & Safety': 'It is about their management of workplace safety and the workplace safety standards in the industries and regions in which they operate.',\n",
       " 'Tax Transparency': 'It is about their estimated corporate tax gap, revenue-reporting transparency and their involvement in tax-related controversies.',\n",
       " 'Business Ethics': 'It is about their oversight and management of business ethics issues such as fraud, executive misconduct, corrupt practices, money laundering, or antitrust violations.',\n",
       " 'Electronic Waste': 'It is about their production of electronic waste, their potential exposure to e-waste regulations as well as their efforts at product collection and recycling.',\n",
       " 'Opportunities in Renewable Energy': 'It is about their efforts to develop renewable power generation capacity and/or enable renewable power development through network expansion and “green power” offerings.',\n",
       " 'Health & Demographic Risk': 'It is about risks related to the health and well-being of employees, customers, and communities, as well as risks associated with demographic changes, such as aging populations and shifting consumer preferences.',\n",
       " 'Carbon Emissions': 'It is about the carbon intensity of their operations and their efforts to manage climate-related risks and opportunities.',\n",
       " 'Opportunities in Green Building': 'It is about the resource consumption and carbon intensity of their property assets, their potential exposure to environmental building regulations and their efforts to improve the environmental performance of their real estate assets.',\n",
       " 'Supply Chain Labor Standards': 'It is about the management and transparency of their supply chain and the working standards in the regions in which their suppliers are located.',\n",
       " 'Opportunities in Nutrition & Health': 'It is about the nutritional content of their food products and their efforts to introduce products with an improved nutritional or health profile.',\n",
       " 'Privacy & Data Security': 'It is about the amount of personal data they collect, their exposure to evolving or increasing privacy regulations, their vulnerability to potential data breaches, and their systems for protecting personal data.',\n",
       " 'Access to Health Care': 'It is about their efforts to improve access to their products in developing countries and underserved markets (e.g., low regional physician concentration), through equitable pricing mechanisms and capacity advancement efforts as well as product donations.',\n",
       " 'Responsible Investment': 'It is about their integration of environmental, social and governance considerations in the management of their own assets or the assets they manage on behalf of others.',\n",
       " 'Labor Management': 'It is about the complexity of their workforce (size, labor intensity and regions of operation), the relationship between management and labor, the strength of worker protections, and their employee engagement efforts.',\n",
       " 'Controversial Sourcing': 'It is about their dependence on and purchasing volume of raw materials procured from conflict areas and their efforts at traceability and certification.',\n",
       " 'Packaging Material & Waste': 'It is about their production of or reliance upon packaging materials, their potential exposure to waste management and packaging regulations, as well as their efforts to reduce the environmental impact of packaging materials.',\n",
       " 'Financing Environmental Impact': 'It is about the environmental risks of their lending and underwriting activities and their ability to capitalize on opportunities related to green finance.',\n",
       " 'Pay': 'It is about CEO and other executive-pay practices, including specific pay figures, where disclosed.',\n",
       " 'Community Relations': 'It is about their management of local community relations, policies on conflict and human rights, and efforts to distribute benefits to local communities.',\n",
       " 'Product Carbon Footprint': 'It is about carbon intensity of their products and their ability to reduce the carbon footprint in their supply chains or in the use of their products and services.',\n",
       " 'Ownership & Control': 'It is about the ownership structure, the proportionality between the economic exposure and voting power of the largest owner (“control skew”) and other capital or ownership factors that may affect governance risk.',\n",
       " 'Human Capital Development': 'It is about their workforce talent requirements and their ability to attract, retain and develop a highly skilled workforce.',\n",
       " 'Water Stress': 'It is about the water intensity of their operations, the water stress in their areas of operations and their efforts to manage water-related risks and opportunities.',\n",
       " 'Biodiversity & Land Use': 'it is about the potential impact of their operations on biodiversity in their areas of operation and their efforts to manage the environmental impact of their operations.',\n",
       " 'Chemical Safety': 'It is about the possible presence of harmful chemicals in their product portfolio, their potential exposure to strengthening or pending chemical regulations and their efforts to develop less-harmful alternatives.',\n",
       " 'Access to Communications': \"It is about a company's ability to provide and promote access to modern forms of communication, including mobile phones, internet access, and other forms of digital communication.\",\n",
       " 'Climate Change Vulnerability': 'It is about the physical risk that climate change may pose to insured assets or individuals usually assessed on insurance companies.',\n",
       " 'Raw Material Sourcing': 'It is about the environmental impacts of the raw materials used in their products and their efforts around supplychain traceability and certification.',\n",
       " 'Toxic Emissions & Waste': 'It is about the potential environmental contamination and toxic or carcinogenic emissions arising from their operations and the strength of their environmental management systems.',\n",
       " 'Product Safety & Quality': 'It is about their exposure to possible recalls or product safety concerns, the strength of their supply chain and sourcing systems, their quality management efforts in manufacturing and their responsible marketing practices.',\n",
       " 'Consumer Financial Protection': 'It is about product stewardship and transparency, including efforts to mitigate potential reputational and regulatory risks arising from unethical lending practices or mis-selling financial products to consumers.',\n",
       " 'Opportunities in Clean Tech': 'It is about their clean tech innovation capacity, strategic development initiatives, and revenue generated from clean technologies.',\n",
       " 'Accounting': 'It is about the appointment of the external audit firm, the findings of its audit report, and on other accounting events as an indicator of potential accounting risk.',\n",
       " 'Board': 'It is about the board’s independence from management and/or other interests, and on various measures of board experience and effectiveness such as director attendance and director overboarding, where individual board members may compromise their effectiveness by serving on too many boards.'}"
      ]
     },
     "execution_count": 8,
     "metadata": {},
     "output_type": "execute_result"
    }
   ],
   "source": [
    "des2"
   ]
  },
  {
   "cell_type": "code",
   "execution_count": 9,
   "metadata": {},
   "outputs": [],
   "source": [
    "def get_label_desc(label, des2):\n",
    "    des2 = des2[label]\n",
    "    return des2\n",
    "\n",
    "def get_random_samples(df):\n",
    "    # define a function that returns two random samples from the train set.\n",
    "    s1, s2 = random.sample(range(0, len(df)), 2)\n",
    "    return df['news_title'][s1], df['news_content'][s1], df['ESG_label'][s1], df['news_title'][s2], df['news_content'][s2], df['ESG_label'][s2]\n",
    "\n",
    "def get_prompt(title1, text1, label1,title2, text2, label2, des2):\n",
    "    # define a function that takes as input two samples and generates the prompt\n",
    "    # that we should pass to the GPT-3 language model for completion.\n",
    "    description = \"Each item in the following list should contain a #ESG News headline, #ESG news and the related #ESG key issues. #ESG key issues are based on MSCI ESG rating guidelines.\"\n",
    "    label_desc = get_label_desc(label1, des2)\n",
    "    label_desc = f\"#ESG Key issue is {label1}. \" + label_desc\n",
    "    description = description + label_desc\n",
    "    prompt = (f\"{description}\\n\"\n",
    "            f\"// #ESG News headline: {title1} // #ESG News: {text1} // #(ESG key issue: {label1})\\n\"\n",
    "            f\"// #ESG News headline: {title2} // #ESG News: {text2} // #(ESG key issue: {label2})\\n\"\n",
    "            f\"// #ESG News headline:\")\n",
    "    return prompt"
   ]
  },
  {
   "cell_type": "code",
   "execution_count": 10,
   "metadata": {},
   "outputs": [],
   "source": [
    "labels_and_numbers = dict(100 - df['ESG_label'].value_counts())"
   ]
  },
  {
   "cell_type": "code",
   "execution_count": 11,
   "metadata": {},
   "outputs": [
    {
     "data": {
      "text/plain": [
       "{'Packaging Material & Waste': 19,\n",
       " 'Board': 26,\n",
       " 'Carbon Emissions': 27,\n",
       " 'Financing Environmental Impact': 29,\n",
       " 'Responsible Investment': 30,\n",
       " 'Opportunities in Renewable Energy': 32,\n",
       " 'Opportunities in Clean Tech': 38,\n",
       " 'Human Capital Development': 38,\n",
       " 'Product Carbon Footprint': 45,\n",
       " 'Biodiversity & Land Use': 47,\n",
       " 'Consumer Financial Protection': 53,\n",
       " 'Opportunities in Green Building': 56,\n",
       " 'Ownership & Control': 58,\n",
       " 'Community Relations': 60,\n",
       " 'Business Ethics': 66,\n",
       " 'Climate Change Vulnerability': 70,\n",
       " 'Raw Material Sourcing': 71,\n",
       " 'Water Stress': 73,\n",
       " 'Toxic Emissions & Waste': 74,\n",
       " 'Pay': 78,\n",
       " 'Opportunities in Nutrition & Health': 78,\n",
       " 'Health & Demographic Risk': 78,\n",
       " 'Access to Finance': 80,\n",
       " 'Access to Health Care': 81,\n",
       " 'Accounting': 82,\n",
       " 'Chemical Safety': 82,\n",
       " 'Privacy & Data Security': 86,\n",
       " 'Access to Communications': 87,\n",
       " 'Electronic Waste': 88,\n",
       " 'Supply Chain Labor Standards': 89,\n",
       " 'Product Safety & Quality': 90,\n",
       " 'Labor Management': 94,\n",
       " 'Controversial Sourcing': 96}"
      ]
     },
     "execution_count": 11,
     "metadata": {},
     "output_type": "execute_result"
    }
   ],
   "source": [
    "labels_and_numbers"
   ]
  },
  {
   "cell_type": "code",
   "execution_count": 12,
   "metadata": {},
   "outputs": [
    {
     "data": {
      "application/json": {
       "ascii": false,
       "bar_format": null,
       "colour": null,
       "elapsed": 0.007924318313598633,
       "initial": 0,
       "n": 0,
       "ncols": null,
       "nrows": null,
       "postfix": null,
       "prefix": "Loading checkpoint shards",
       "rate": null,
       "total": 3,
       "unit": "it",
       "unit_divisor": 1000,
       "unit_scale": false
      },
      "application/vnd.jupyter.widget-view+json": {
       "model_id": "fe2d20607a2a4355979aea7468de444e",
       "version_major": 2,
       "version_minor": 0
      },
      "text/plain": [
       "Loading checkpoint shards:   0%|          | 0/3 [00:00<?, ?it/s]"
      ]
     },
     "metadata": {},
     "output_type": "display_data"
    }
   ],
   "source": [
    "tokenizer = AutoTokenizer.from_pretrained('EleutherAI/pythia-12b')\n",
    "model = AutoModelForCausalLM.from_pretrained('EleutherAI/pythia-12b')"
   ]
  },
  {
   "cell_type": "code",
   "execution_count": 13,
   "metadata": {},
   "outputs": [],
   "source": [
    "accelerate = Accelerator()\n",
    "model = accelerate.prepare(model)"
   ]
  },
  {
   "cell_type": "code",
   "execution_count": 14,
   "metadata": {},
   "outputs": [
    {
     "name": "stderr",
     "output_type": "stream",
     "text": [
      "100%|██████████| 33/33 [3:41:37<00:00, 402.95s/it]\n"
     ]
    }
   ],
   "source": [
    "import warnings\n",
    "\n",
    "warnings.filterwarnings(action=\"ignore\")\n",
    "\n",
    "from IPython.display import clear_output\n",
    "\n",
    "import os\n",
    "\n",
    "for label_name in tqdm(labels_and_numbers):\n",
    "    file_dir = './data/Pythia/' + label_name + '_augmented.parquet'\n",
    "    if os.path.exists(file_dir):\n",
    "        pass\n",
    "    else:\n",
    "        n = labels_and_numbers[label_name]\n",
    "        df2 = df[df['ESG_label'] == label_name].reset_index(drop = True)\n",
    "        ESG_text = []\n",
    "        iter = 0\n",
    "        while iter < n:\n",
    "            print('***', label_name, iter/n*100, '% ***')\n",
    "            # select two random samples from training set\n",
    "            title1, text1, label1,title2, text2, label2 = get_random_samples(df2)\n",
    "            # create the prompt\n",
    "            prompt = get_prompt(title1, text1, label1, title2, text2, label2,des2)\n",
    "\n",
    "            # generate text using GPT model\n",
    "            input_ids = tokenizer(prompt, return_tensors=\"pt\").input_ids.cuda()\n",
    "            gen_tokens = model.generate(input_ids, do_sample=True, temperature=0.9, max_length=500,)\n",
    "            gen_text = tokenizer.batch_decode(gen_tokens)[0]\n",
    "            try:\n",
    "                text = gen_text.split('\\n')[3]\n",
    "                esg_text = text + '\\n'\n",
    "                ESG_text.append(esg_text)\n",
    "                iter += 1\n",
    "                torch.cuda.empty_cache() \n",
    "                clear_output(wait=True)\n",
    "            except:\n",
    "                pass\n",
    "        \n",
    "        \n",
    "        to_save = pd.DataFrame(columns = ['ESG_text'])\n",
    "        to_save['ESG_text'] = ESG_text\n",
    "        to_save.to_parquet(file_dir)\n",
    "\n",
    "   "
   ]
  }
 ],
 "metadata": {
  "kernelspec": {
   "display_name": "data2vec",
   "language": "python",
   "name": "python3"
  },
  "language_info": {
   "codemirror_mode": {
    "name": "ipython",
    "version": 3
   },
   "file_extension": ".py",
   "mimetype": "text/x-python",
   "name": "python",
   "nbconvert_exporter": "python",
   "pygments_lexer": "ipython3",
   "version": "3.9.12"
  },
  "orig_nbformat": 4
 },
 "nbformat": 4,
 "nbformat_minor": 2
}
